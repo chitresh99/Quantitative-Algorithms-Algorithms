{
 "cells": [
  {
   "cell_type": "code",
   "execution_count": 8,
   "metadata": {},
   "outputs": [],
   "source": [
    "import numpy as np"
   ]
  },
  {
   "cell_type": "code",
   "execution_count": 9,
   "metadata": {},
   "outputs": [],
   "source": [
    "prices = np.array([100, 102, 101, 98, 96, 99, 97, 95, 100, 101])"
   ]
  },
  {
   "cell_type": "code",
   "execution_count": 10,
   "metadata": {},
   "outputs": [
    {
     "name": "stdout",
     "output_type": "stream",
     "text": [
      "Mean:98.9\n"
     ]
    }
   ],
   "source": [
    "mean = np.mean(prices)\n",
    "print(f\"Mean:{mean}\")"
   ]
  },
  {
   "cell_type": "code",
   "execution_count": 11,
   "metadata": {},
   "outputs": [
    {
     "name": "stdout",
     "output_type": "stream",
     "text": [
      "Standard Deviation:2.211334438749598\n"
     ]
    }
   ],
   "source": [
    "std_dev = np.std(prices)\n",
    "print(f\"Standard Deviation:{std_dev}\")"
   ]
  },
  {
   "cell_type": "code",
   "execution_count": 12,
   "metadata": {},
   "outputs": [
    {
     "name": "stdout",
     "output_type": "stream",
     "text": [
      "3-day SMA:95.0\n"
     ]
    }
   ],
   "source": [
    "sma = np.mean(prices[-3])\n",
    "print(f\"3-day SMA:{sma}\")"
   ]
  },
  {
   "cell_type": "code",
   "execution_count": 13,
   "metadata": {},
   "outputs": [
    {
     "name": "stdout",
     "output_type": "stream",
     "text": [
      "Z-score: 0.9496528264568801\n"
     ]
    }
   ],
   "source": [
    "# Calculate Z-score for the last price\n",
    "z_score = (prices[-1] - mean) / std_dev\n",
    "print(f\"Z-score: {z_score}\")"
   ]
  },
  {
   "cell_type": "code",
   "execution_count": 15,
   "metadata": {},
   "outputs": [
    {
     "name": "stdout",
     "output_type": "stream",
     "text": [
      "Hold Signal\n"
     ]
    }
   ],
   "source": [
    "if z_score < -1.0:\n",
    "    print(\"Buy Signal\")\n",
    "elif z_score > 1.0:\n",
    "    print(\"Sell Signal\")\n",
    "else:\n",
    "    print(\"Hold Signal\")"
   ]
  },
  {
   "cell_type": "markdown",
   "metadata": {},
   "source": []
  }
 ],
 "metadata": {
  "kernelspec": {
   "display_name": "Python 3",
   "language": "python",
   "name": "python3"
  },
  "language_info": {
   "codemirror_mode": {
    "name": "ipython",
    "version": 3
   },
   "file_extension": ".py",
   "mimetype": "text/x-python",
   "name": "python",
   "nbconvert_exporter": "python",
   "pygments_lexer": "ipython3",
   "version": "3.12.1"
  }
 },
 "nbformat": 4,
 "nbformat_minor": 2
}
