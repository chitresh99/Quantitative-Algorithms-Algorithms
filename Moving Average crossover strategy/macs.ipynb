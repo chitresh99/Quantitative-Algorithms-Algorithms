{
 "cells": [
  {
   "cell_type": "code",
   "execution_count": 15,
   "metadata": {},
   "outputs": [],
   "source": [
    "import pandas as pd\n",
    "import numpy as np\n",
    "import matplotlib as plt"
   ]
  },
  {
   "cell_type": "code",
   "execution_count": 16,
   "metadata": {},
   "outputs": [],
   "source": [
    "# np.random.seed(1)  # Set the seed for reproducibility\n",
    "# df = np.random.rand(3)  # Generate an array of 3 random numbers\n",
    "# print(df)"
   ]
  },
  {
   "cell_type": "code",
   "execution_count": 17,
   "metadata": {},
   "outputs": [],
   "source": [
    "# dates = pd.date_range('2022-01-01', '2022-12-31')\n",
    "# print(dates) "
   ]
  },
  {
   "cell_type": "code",
   "execution_count": 18,
   "metadata": {},
   "outputs": [],
   "source": [
    "# Generate sample data\n",
    "\n",
    "dates = pd.date_range('2022-01-01', '2022-12-31')\n",
    "np.random.seed(0)\n",
    "prices = np.random.normal(0, 1, len(dates)).cumsum() + 100\n",
    "data = pd.DataFrame(data=prices, index=dates, columns=['Close'])"
   ]
  },
  {
   "cell_type": "code",
   "execution_count": 19,
   "metadata": {},
   "outputs": [],
   "source": [
    "# Calculate moving averages\n",
    "\n",
    "short_window = 20\n",
    "long_window = 50\n",
    "data['Short_MA'] = data['Close'].rolling(window=short_window, min_periods=1).mean()\n",
    "data['Long_MA'] = data['Close'].rolling(window=long_window, min_periods=1).mean()"
   ]
  },
  {
   "cell_type": "code",
   "execution_count": 20,
   "metadata": {},
   "outputs": [],
   "source": [
    "# # Generate signals\n",
    "# data['Signal'] = 0\n",
    "# data.loc[short_window:, 'Signal'] = np.where(\n",
    "#     data['Short_MA'][short_window:] > data['Long_MA'][short_window:], 1, 0\n",
    "# )"
   ]
  },
  {
   "cell_type": "code",
   "execution_count": 21,
   "metadata": {},
   "outputs": [],
   "source": [
    "# # Plot the results\n",
    "# plt.figure(figsize=(12, 6))\n",
    "# plt.plot(data['Close'], label='Close Price', alpha=0.5)\n",
    "# plt.plot(data['Short_MA'], label='20-Day MA', alpha=0.75)\n",
    "# plt.plot(data['Long_MA'], label='50-Day MA', alpha=0.75)"
   ]
  },
  {
   "cell_type": "code",
   "execution_count": 22,
   "metadata": {},
   "outputs": [],
   "source": [
    "# # Plot buy signals\n",
    "# plt.plot(data[data['Position'] == 1].index,\n",
    "#          data['Short_MA'][data['Position'] == 1],\n",
    "#          '^', markersize=10, color='g', label='Buy Signal')"
   ]
  }
 ],
 "metadata": {
  "kernelspec": {
   "display_name": "Python 3 (ipykernel)",
   "language": "python",
   "name": "python3"
  },
  "language_info": {
   "codemirror_mode": {
    "name": "ipython",
    "version": 3
   },
   "file_extension": ".py",
   "mimetype": "text/x-python",
   "name": "python",
   "nbconvert_exporter": "python",
   "pygments_lexer": "ipython3",
   "version": "3.12.1"
  }
 },
 "nbformat": 4,
 "nbformat_minor": 4
}
