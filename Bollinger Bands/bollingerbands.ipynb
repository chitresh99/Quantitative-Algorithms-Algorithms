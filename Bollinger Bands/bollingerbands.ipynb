{
 "cells": [
  {
   "cell_type": "code",
   "execution_count": 2,
   "metadata": {},
   "outputs": [],
   "source": [
    "import pandas as pd\n",
    "import numpy as np"
   ]
  },
  {
   "cell_type": "code",
   "execution_count": 4,
   "metadata": {},
   "outputs": [],
   "source": [
    "def bollinger_bands(data, window=20):\n",
    "    data['MA'] = data['Close'].rolling(window=window).mean()\n",
    "    data['STD'] = data['Close'].rolling(window=window).std()\n",
    "    data['Upper'] = data['MA'] + (data['STD'] * 2)\n",
    "    data['Lower'] = data['MA'] - (data['STD'] * 2)\n",
    "    data['Signal'] = 0\n",
    "    data.loc[window:, 'Signal'] = np.where(\n",
    "        data.loc[window:, 'Close'] > data.loc[window:, 'Upper'], \n",
    "        -1, \n",
    "        np.where(data.loc[window:, 'Close'] < data.loc[window:, 'Lower'], 1, 0)\n",
    "    )\n",
    "    data['Position'] = data['Signal'].diff()\n",
    "    return data\n",
    "\n"
   ]
  },
  {
   "cell_type": "code",
   "execution_count": 5,
   "metadata": {},
   "outputs": [
    {
     "name": "stdout",
     "output_type": "stream",
     "text": [
      "        Close         MA       STD      Upper     Lower  Signal  Position\n",
      "0    0.839938        NaN       NaN        NaN       NaN       0       NaN\n",
      "1    1.835718        NaN       NaN        NaN       NaN       0       0.0\n",
      "2    0.528156        NaN       NaN        NaN       NaN       0       0.0\n",
      "3    0.070104        NaN       NaN        NaN       NaN       0       0.0\n",
      "4    0.195084        NaN       NaN        NaN       NaN       0       0.0\n",
      "..        ...        ...       ...        ...       ...     ...       ...\n",
      "95  13.151998   8.526635  3.081919  14.690474  2.362797       0       0.0\n",
      "96  12.543288   8.985175  2.954298  14.893770  3.076580       0       0.0\n",
      "97  13.599062   9.438598  2.930443  15.299485  3.577711       0       0.0\n",
      "98  14.422674   9.925467  2.907962  15.741391  4.109544       0       0.0\n",
      "99  16.476638  10.530757  2.950513  16.431783  4.629731      -1      -1.0\n",
      "\n",
      "[100 rows x 7 columns]\n"
     ]
    }
   ],
   "source": [
    "data = pd.DataFrame({'Close': np.random.randn(100).cumsum()})\n",
    "result = bollinger_bands(data)\n",
    "print(result)"
   ]
  }
 ],
 "metadata": {
  "kernelspec": {
   "display_name": "Python 3",
   "language": "python",
   "name": "python3"
  },
  "language_info": {
   "codemirror_mode": {
    "name": "ipython",
    "version": 3
   },
   "file_extension": ".py",
   "mimetype": "text/x-python",
   "name": "python",
   "nbconvert_exporter": "python",
   "pygments_lexer": "ipython3",
   "version": "3.12.1"
  }
 },
 "nbformat": 4,
 "nbformat_minor": 2
}
